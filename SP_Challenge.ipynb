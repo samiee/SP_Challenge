{
  "nbformat": 4,
  "nbformat_minor": 0,
  "metadata": {
    "colab": {
      "name": "SP Challenge.ipynb",
      "private_outputs": true,
      "provenance": []
    },
    "kernelspec": {
      "name": "python3",
      "display_name": "Python 3"
    },
    "language_info": {
      "name": "python"
    },
    "accelerator": "GPU"
  },
  "cells": [
    {
      "cell_type": "code",
      "metadata": {
        "id": "m3G4uQVZd99w"
      },
      "source": [
        "# !pip install pystan==2.19.1.1\n",
        "!pip install prophet"
      ],
      "execution_count": null,
      "outputs": []
    },
    {
      "cell_type": "markdown",
      "metadata": {
        "id": "VXOeXKdnrrp1"
      },
      "source": [
        "**Importing Dependencies ** "
      ]
    },
    {
      "cell_type": "code",
      "metadata": {
        "id": "l9p9hDpOYUmQ"
      },
      "source": [
        "import warnings\n",
        "from sklearn import preprocessing\n",
        "from prophet.diagnostics import cross_validation\n",
        "from prophet import Prophet\n",
        "import pandas as pd\n",
        "import numpy as np \n",
        "import matplotlib as plt\n",
        "import matplotlib.pyplot as plt\n",
        "import seaborn as sns\n",
        "import itertools\n",
        "from statsmodels.tsa.stattools import adfuller\n",
        "import statsmodels.api as sm\n",
        "import matplotlib.pyplot as plt\n",
        "from prophet.diagnostics import performance_metrics\n",
        "import holidays\n",
        "plt.style.use('fivethirtyeight')\n",
        "%matplotlib inline"
      ],
      "execution_count": null,
      "outputs": []
    },
    {
      "cell_type": "code",
      "metadata": {
        "id": "iFyIZKwJc3xE"
      },
      "source": [
        "df=pd.read_excel('/content/Sample - Superstore.xls')"
      ],
      "execution_count": null,
      "outputs": []
    },
    {
      "cell_type": "code",
      "metadata": {
        "id": "83KG0O2LdRKz"
      },
      "source": [
        "df.head()"
      ],
      "execution_count": null,
      "outputs": []
    },
    {
      "cell_type": "code",
      "metadata": {
        "id": "NaE2ZAfqqOlE"
      },
      "source": [
        "df.tail()"
      ],
      "execution_count": null,
      "outputs": []
    },
    {
      "cell_type": "markdown",
      "metadata": {
        "id": "-8-6it8dsGzI"
      },
      "source": [
        "### Exploring and Analyzing the Dataset and checking for Nan Values if found to impute or drop it "
      ]
    },
    {
      "cell_type": "code",
      "metadata": {
        "id": "uRIDE9GGdX2q"
      },
      "source": [
        "df.isna().sum()"
      ],
      "execution_count": null,
      "outputs": []
    },
    {
      "cell_type": "code",
      "metadata": {
        "id": "Q2iPxLQSdduS"
      },
      "source": [
        "df.shape"
      ],
      "execution_count": null,
      "outputs": []
    },
    {
      "cell_type": "code",
      "metadata": {
        "id": "r2RUbr6ldoSJ"
      },
      "source": [
        "df.dtypes"
      ],
      "execution_count": null,
      "outputs": []
    },
    {
      "cell_type": "code",
      "metadata": {
        "id": "4QTSaQehdtFm"
      },
      "source": [
        "df.Category.unique()\n",
        "df.Region.unique()"
      ],
      "execution_count": null,
      "outputs": []
    },
    {
      "cell_type": "code",
      "metadata": {
        "id": "8dAllTX_FFwd"
      },
      "source": [
        "df.Segment.unique()"
      ],
      "execution_count": null,
      "outputs": []
    },
    {
      "cell_type": "code",
      "metadata": {
        "id": "Y_5m_VSVg14J"
      },
      "source": [
        "df.describe().T"
      ],
      "execution_count": null,
      "outputs": []
    },
    {
      "cell_type": "code",
      "metadata": {
        "id": "Uj35zifehE64"
      },
      "source": [
        "df.groupby('Category')['Sales'].sum()"
      ],
      "execution_count": null,
      "outputs": []
    },
    {
      "cell_type": "code",
      "metadata": {
        "id": "_ui0Uonxi0uQ"
      },
      "source": [
        "df.groupby('Sub-Category')['Sales'].sum()"
      ],
      "execution_count": null,
      "outputs": []
    },
    {
      "cell_type": "code",
      "metadata": {
        "id": "xHipg7GXjPQH"
      },
      "source": [
        "df.groupby(['Category','Sub-Category'])['Sub-Category'].agg(['count'])"
      ],
      "execution_count": null,
      "outputs": []
    },
    {
      "cell_type": "code",
      "metadata": {
        "id": "Oj1EoLHhyNZF"
      },
      "source": [
        "ax = plt.gca()\n",
        "ax.hist(df['Category'],alpha=0.5, bins=10)\n",
        "#Adding the aesthetics\n",
        "plt.title('Most Ordered Category')\n",
        "plt.xlabel('Category')\n",
        "plt.ylabel('Frequency') \n",
        "#Show the plot\n",
        "plt.show()"
      ],
      "execution_count": null,
      "outputs": []
    },
    {
      "cell_type": "code",
      "metadata": {
        "id": "aDtFvXSdkUQq"
      },
      "source": [
        "sns.barplot(x = 'Sales',y = 'Sub-Category',data = df)\n",
        "plt.title('Most Sold Sub-Category')\n",
        "plt.xlabel('Sales')\n",
        "plt.ylabel('Sub-Category') \n",
        "plt.show()"
      ],
      "execution_count": null,
      "outputs": []
    },
    {
      "cell_type": "code",
      "metadata": {
        "id": "hjVI912rnJAi"
      },
      "source": [
        "df_pivot=df.pivot_table(values='Profit',index='Region',columns='Category',aggfunc=np.mean)\n",
        "ax=df_pivot.plot(kind='bar',alpha=0.5)\n",
        "plt.title('Profit by Region')\n",
        "plt.xlabel('Region')\n",
        "plt.ylabel('Profit') \n",
        "plt.legend(df_pivot, loc=2)\n",
        "plt.show()"
      ],
      "execution_count": null,
      "outputs": []
    },
    {
      "cell_type": "code",
      "metadata": {
        "id": "9zr65B8axmWY"
      },
      "source": [
        "df_sales=df.loc[(df['Category']=='Furniture')]"
      ],
      "execution_count": null,
      "outputs": []
    },
    {
      "cell_type": "code",
      "metadata": {
        "id": "nTBeWKiRCnLs"
      },
      "source": [
        "df_sales=df_sales[['Order Date','Sales']]"
      ],
      "execution_count": null,
      "outputs": []
    },
    {
      "cell_type": "markdown",
      "metadata": {
        "id": "8k0FNxm0slQE"
      },
      "source": [
        "Setting Date as the index and Sales is the trageted column"
      ]
    },
    {
      "cell_type": "code",
      "metadata": {
        "id": "Deq_g8rBou54"
      },
      "source": [
        "df_sales=df_sales.set_index('Order Date')"
      ],
      "execution_count": null,
      "outputs": []
    },
    {
      "cell_type": "code",
      "metadata": {
        "id": "3Q4lbg4G2ms1"
      },
      "source": [
        "df_sales.head()"
      ],
      "execution_count": null,
      "outputs": []
    },
    {
      "cell_type": "markdown",
      "metadata": {
        "id": "vAswqRZvszBx"
      },
      "source": [
        "Resampling the dataset and put Month Start as as the beginning of the Dataset and taking the mean for each month"
      ]
    },
    {
      "cell_type": "code",
      "metadata": {
        "id": "9pUZbFNHliET"
      },
      "source": [
        "y = df_sales['Sales'].resample('MS').mean()"
      ],
      "execution_count": null,
      "outputs": []
    },
    {
      "cell_type": "code",
      "metadata": {
        "id": "G1LI0ri7ANif"
      },
      "source": [
        "y.head()"
      ],
      "execution_count": null,
      "outputs": []
    },
    {
      "cell_type": "code",
      "metadata": {
        "id": "5suP6ZOwD_Mg"
      },
      "source": [
        "y.plot(figsize=(16,6))"
      ],
      "execution_count": null,
      "outputs": []
    },
    {
      "cell_type": "code",
      "metadata": {
        "id": "s0oL01lumcWe"
      },
      "source": [
        "# Setting the p = d = q  form 0 - 2\n",
        "p = d = q = range(0, 2)\n",
        "\n",
        "# Generaiting all the possible product for pdq variables \n",
        "pdq = list(itertools.product(p, d, q))\n",
        "\n",
        "# Generate all different combinations of seasonal p, q and q triplets\n",
        "seasonal_pdq = [(x[0], x[1], x[2], 12) for x in list(itertools.product(p, d, q))]\n",
        "\n",
        "print('Examples of parameter combinations for Seasonal ARIMA...')\n",
        "print('SARIMAX: {} x {}'.format(pdq[1], seasonal_pdq[1]))\n",
        "print('SARIMAX: {} x {}'.format(pdq[1], seasonal_pdq[2]))\n",
        "print('SARIMAX: {} x {}'.format(pdq[2], seasonal_pdq[3]))\n",
        "print('SARIMAX: {} x {}'.format(pdq[2], seasonal_pdq[4]))"
      ],
      "execution_count": null,
      "outputs": []
    },
    {
      "cell_type": "code",
      "metadata": {
        "id": "qCV32PcIPb9_"
      },
      "source": [
        "warnings.filterwarnings(\"ignore\")\n",
        "\n",
        "for param in pdq:\n",
        "    for param_seasonal in seasonal_pdq:\n",
        "        try:\n",
        "            mod = sm.tsa.statespace.SARIMAX(y,\n",
        "                                            order=param,\n",
        "                                            seasonal_order=param_seasonal,\n",
        "                                            enforce_stationarity=False,\n",
        "                                            enforce_invertibility=False)\n",
        "\n",
        "            results = mod.fit()\n",
        "\n",
        "            print('ARIMA{}x{}12 - AIC:{}'.format(param, param_seasonal, results.aic))\n",
        "        except:\n",
        "            continue"
      ],
      "execution_count": null,
      "outputs": []
    },
    {
      "cell_type": "markdown",
      "metadata": {
        "id": "hFqsdKHYuP1L"
      },
      "source": [
        "# Fitting ARIMA MODEL "
      ]
    },
    {
      "cell_type": "markdown",
      "metadata": {
        "id": "bv529LM6uAmH"
      },
      "source": [
        "The output suggests this values ARIMA(1, 1, 1)x(1, 1, 0, 12)12 - AIC:263.937108438126 "
      ]
    },
    {
      "cell_type": "code",
      "metadata": {
        "id": "13fO5adTRcQR"
      },
      "source": [
        "mod = sm.tsa.statespace.SARIMAX(y,\n",
        "                                order=(1, 1, 1),\n",
        "                                seasonal_order=(1, 1, 0, 12),\n",
        "                                enforce_stationarity=False,\n",
        "                                enforce_invertibility=False)\n",
        "\n",
        "results = mod.fit()\n",
        "\n",
        "print(results.summary().tables[1])"
      ],
      "execution_count": null,
      "outputs": []
    },
    {
      "cell_type": "markdown",
      "metadata": {
        "id": "w7uV-wHwudl-"
      },
      "source": [
        "### The P>|z| column informs us of the significance of each feature weight. "
      ]
    },
    {
      "cell_type": "code",
      "metadata": {
        "id": "CMYj4R9PRxiU"
      },
      "source": [
        "# Model Diagnostic \n",
        "results.plot_diagnostics(figsize=(15, 12))\n",
        "plt.show()"
      ],
      "execution_count": null,
      "outputs": []
    },
    {
      "cell_type": "markdown",
      "metadata": {
        "id": "0ry8R9kIwIkZ"
      },
      "source": [
        "One key insight here is the value of the distrubution close to Zero (N,0) means the values of the residual noramlly distributed"
      ]
    },
    {
      "cell_type": "code",
      "metadata": {
        "id": "1WeBxw_Jnapx"
      },
      "source": [
        "pred = results.get_prediction(start=pd.to_datetime('2017-01-01'), dynamic=False)\n",
        "pred_ci = pred.conf_int()\n",
        "print(pred_ci)\n",
        "ax = y['2014':].plot(label='observed')\n",
        "pred.predicted_mean.plot(ax=ax, label='One-step ahead Forecast', alpha=.7, figsize=(14, 7))\n",
        "ax.fill_between(pred_ci.index,\n",
        "                pred_ci.iloc[:, 0],\n",
        "                pred_ci.iloc[:, 1], color='k', alpha=.2)\n",
        "ax.set_xlabel('Date')\n",
        "ax.set_ylabel('Furniture Sales')\n",
        "plt.legend()\n",
        "plt.show()"
      ],
      "execution_count": null,
      "outputs": []
    },
    {
      "cell_type": "code",
      "metadata": {
        "id": "UA_ic1X6WKw5"
      },
      "source": [
        "pred = results.get_prediction(start=pd.to_datetime('2017-01-01'), dynamic=False)\n",
        "pred_ci = pred.conf_int()"
      ],
      "execution_count": null,
      "outputs": []
    },
    {
      "cell_type": "code",
      "metadata": {
        "id": "K6gop9n2XDan"
      },
      "source": [
        "# y_forecasted = pred.predicted_mean\n",
        "# y_truth = y.loc[::]\n",
        "y_predicted = pred.predicted_mean\n",
        "y_true = y['2017-01-01':]\n",
        "mse = ((y_predicted - y_true)**2).mean()\n",
        "print('Mean Square Error is:', round(mse, 4))"
      ],
      "execution_count": null,
      "outputs": []
    },
    {
      "cell_type": "code",
      "metadata": {
        "id": "G5e9okQLq07D"
      },
      "source": [
        "pred_uc = results.get_forecast(steps=50)\n",
        "pred_ci = pred_uc.conf_int()\n",
        "ax = y.plot(label='observed', figsize=(14, 6))\n",
        "pred_uc.predicted_mean.plot(ax=ax, label='Forecast')\n",
        "ax.fill_between(pred_ci.index,\n",
        "                pred_ci.iloc[:, 0],\n",
        "                pred_ci.iloc[:, 1], color='k', alpha=.25)\n",
        "ax.set_xlabel('Date')\n",
        "ax.set_ylabel('Furniture Sales')\n",
        "plt.legend()\n",
        "plt.show()"
      ],
      "execution_count": null,
      "outputs": []
    },
    {
      "cell_type": "markdown",
      "metadata": {
        "id": "71a44nSX_zFn"
      },
      "source": [
        "# Building fbprophet model for 3 years  a head"
      ]
    },
    {
      "cell_type": "code",
      "metadata": {
        "id": "UPxDikzbGA6s"
      },
      "source": [
        "model = Prophet(\n",
        "    seasonality_mode='multiplicative'\n",
        ")\n",
        "model.add_country_holidays(country_name='US')\n"
      ],
      "execution_count": null,
      "outputs": []
    },
    {
      "cell_type": "code",
      "metadata": {
        "id": "RxA53W9y-fFB"
      },
      "source": [
        "model.fit(df_furniture_sales)"
      ],
      "execution_count": null,
      "outputs": []
    },
    {
      "cell_type": "code",
      "metadata": {
        "id": "rud1NP322Up8"
      },
      "source": [
        "future=model.make_future_dataframe(periods=44, freq = \"M\", include_history = True)\n",
        "forecast=model.predict(future)"
      ],
      "execution_count": null,
      "outputs": []
    },
    {
      "cell_type": "code",
      "metadata": {
        "id": "jwBs-9mR3q46"
      },
      "source": [
        "forecast.head()"
      ],
      "execution_count": null,
      "outputs": []
    },
    {
      "cell_type": "code",
      "metadata": {
        "id": "IRdv-Z_k5qrJ"
      },
      "source": [
        "model.plot(forecast, uncertainty=True)\n",
        "plt.show()"
      ],
      "execution_count": null,
      "outputs": []
    },
    {
      "cell_type": "code",
      "metadata": {
        "id": "st-DqSZ9-9uu"
      },
      "source": [
        "f = model.plot_components(forecast)"
      ],
      "execution_count": null,
      "outputs": []
    },
    {
      "cell_type": "code",
      "metadata": {
        "id": "WSsMzPV6Eu_Y"
      },
      "source": [
        "df_cv = cross_validation(model, initial='730 days', period='180 days', horizon = '365 days')"
      ],
      "execution_count": null,
      "outputs": []
    },
    {
      "cell_type": "code",
      "metadata": {
        "id": "b5axtySZA5MT"
      },
      "source": [
        "df_cv.head()"
      ],
      "execution_count": null,
      "outputs": []
    },
    {
      "cell_type": "code",
      "metadata": {
        "id": "Tn_6k9nqBiCq"
      },
      "source": [
        "df_p = performance_metrics(df_cv)\n",
        "df_p.head()"
      ],
      "execution_count": null,
      "outputs": []
    }
  ]
}